{
 "cells": [
  {
   "cell_type": "code",
   "execution_count": 22,
   "metadata": {},
   "outputs": [
    {
     "name": "stdout",
     "output_type": "stream",
     "text": [
      "Zaki Faiz Dzulfahmi\n",
      "I0322132\n",
      "D\n"
     ]
    }
   ],
   "source": [
    "print(input(\"Nama: \"))\n",
    "print(input(\"NIM: \"))\n",
    "print(input(\"Kelas: \"))"
   ]
  },
  {
   "attachments": {},
   "cell_type": "markdown",
   "metadata": {},
   "source": [
    "## 1."
   ]
  },
  {
   "attachments": {},
   "cell_type": "markdown",
   "metadata": {},
   "source": [
    "Buatlah program yang menampilkan salam “Selamat Pagi” dari berbagai negara {Inggris, Perancis, Italia, Spanyol, Jepang, Korea} dengan dua input dari user yaitu bahasa dan diikuti nama user.<br>\n",
    "<br>Ex : \n",
    "<br>\"Ohayou, Onii Chan\"\n",
    "> *note: Kerjakan soal ini dengan percabangan*"
   ]
  },
  {
   "cell_type": "code",
   "execution_count": 11,
   "metadata": {},
   "outputs": [
    {
     "name": "stdout",
     "output_type": "stream",
     "text": [
      "Buenos dias! zaki\n"
     ]
    }
   ],
   "source": [
    "# Kerjakan soal nomor 1 disini\n",
    "bahasa = input(\"Bahasa : \")\n",
    "nama = input(\"Nama : \")\n",
    "\n",
    "\n",
    "if bahasa.capitalize() == \"Inggris\" :\n",
    "    print(\"Good Morning!\", nama)\n",
    "elif bahasa.capitalize() == \"Prancis\" :\n",
    "    print(\"Bonjour!\", nama)\n",
    "elif bahasa.capitalize() == \"Italia\" :\n",
    "    print(\"Buongiorno!\", nama)\n",
    "elif bahasa.capitalize() == \"Spanyol\" :\n",
    "    print(\"Buenos dias!\", nama)\n",
    "elif bahasa.capitalize() == \"Jepang\" :\n",
    "    print(\"Ohayou gozaimasu! おはようございます!\", nama)\n",
    "elif bahasa.capitalize() == \"Korea\" :\n",
    "    print(\"Joh-eun achim-ieyo! 좋은 아침이에요!\", nama)\n",
    "else :\n",
    "    print(\"Sorry, the country inputted is not listed // Maaf, negara yang dimasukkan tidak terdaftar\")\n"
   ]
  },
  {
   "attachments": {},
   "cell_type": "markdown",
   "metadata": {},
   "source": [
    "## 2."
   ]
  },
  {
   "attachments": {},
   "cell_type": "markdown",
   "metadata": {},
   "source": [
    "Buatlah program perhitungan umur dengan menggunakan input user yaitu tahun lahir dari user.<br>\n",
    "<br>Output yang dihasilkan adalah sebagai berikut:\n",
    "<br>\"Apakah anda berasal dari masa depan?\"\n",
    "<br>\"Anda barusaja lahir\"\n",
    "<br>\"Umur Anda adalah xx tahun\"\n",
    "> *note: Kerjakan soal ini dengan percabangan*"
   ]
  },
  {
   "cell_type": "code",
   "execution_count": 6,
   "metadata": {},
   "outputs": [
    {
     "name": "stdout",
     "output_type": "stream",
     "text": [
      "Umur anda adalah 33 tahun\n"
     ]
    }
   ],
   "source": [
    "# Kerjakan soal nomor 2 disini\n",
    "tahun_lahir = int(input(\"Tahun Lahir : \"))\n",
    "\n",
    "if tahun_lahir > 2023 :\n",
    "    print(\"Apakah anda berasal dari masa depan?\")\n",
    "elif tahun_lahir == 2023 :\n",
    "    print(\"Anda barusaja lahir\")\n",
    "else :\n",
    "    print(\"Umur anda adalah\", 2023-tahun_lahir, \"tahun\")"
   ]
  }
 ],
 "metadata": {
  "kernelspec": {
   "display_name": "Python 3",
   "language": "python",
   "name": "python3"
  },
  "language_info": {
   "codemirror_mode": {
    "name": "ipython",
    "version": 3
   },
   "file_extension": ".py",
   "mimetype": "text/x-python",
   "name": "python",
   "nbconvert_exporter": "python",
   "pygments_lexer": "ipython3",
   "version": "3.10.7"
  },
  "orig_nbformat": 4,
  "vscode": {
   "interpreter": {
    "hash": "8c3d4d9970fc5c09c50d9318a9c7fbf4d0159e4b28833276f5678ee22bded273"
   }
  }
 },
 "nbformat": 4,
 "nbformat_minor": 2
}
