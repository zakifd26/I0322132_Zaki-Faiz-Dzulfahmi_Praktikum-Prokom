{
 "cells": [
  {
   "cell_type": "code",
   "execution_count": 8,
   "metadata": {},
   "outputs": [
    {
     "data": {
      "text/plain": [
       "[[6, 4], [2, 8]]"
      ]
     },
     "execution_count": 8,
     "metadata": {},
     "output_type": "execute_result"
    }
   ],
   "source": [
    "#Buatlah sebuah fungsi untuk membuat matrix berdasarkan input dari user\n",
    "\n",
    "def create_matrix(baris,kolom):\n",
    "    matrix = []\n",
    "\n",
    "    for x in range (baris):\n",
    "        area = []\n",
    "        for y in range (kolom):\n",
    "            isi = (int(input (f\"[{x}][{y}]\")))\n",
    "            area.append(isi)\n",
    "        matrix.append(area)\n",
    "    return matrix\n",
    "\n",
    "\n",
    "baris = int(input('Masukkan Jumlah Baris:\\t'))\n",
    "kolom = int(input('Masukkan Jumlah Kolom:\\t'))\n",
    "\n",
    "create_matrix(baris,kolom)"
   ]
  },
  {
   "cell_type": "code",
   "execution_count": 10,
   "metadata": {},
   "outputs": [
    {
     "data": {
      "text/plain": [
       "[[2, 6, 0, 1], [1, 8, 0, 6], [2, 0, 0, 4], [1, 2, 3, 4]]"
      ]
     },
     "execution_count": 10,
     "metadata": {},
     "output_type": "execute_result"
    }
   ],
   "source": [
    "#Buatlah sebuah fungsi untuk mencari invers matrix berdasarkan input matrix dari user\n",
    "\n",
    "def invers():\n",
    "    det = []\n",
    "\n",
    "    \n",
    "    sz = int(input('Ukuran matriks : '))\n",
    "\n",
    "    for a in range(sz):\n",
    "        area = []\n",
    "        for b in range(sz):\n",
    "            isi = int(input(f\"[{a}][{b}]\"))\n",
    "            area.append(isi)\n",
    "        det.append(area)\n",
    "    \n",
    "    def determinan(det):\n",
    "        c = len(det)\n",
    "        if c == 1:\n",
    "            return det[0][0]\n",
    "        elif c == 2:\n",
    "            return det[0][0] * det[1][1] - det[0][1] * det[1][0]\n",
    "        else:\n",
    "            deter = 0\n",
    "            for i in range(c):\n",
    "                sub = [area[:i] + area[i+1:] for area in det[1:]]\n",
    "                deter += ((-1)**i) * det[0][i] * determinan(sub)\n",
    "            return deter\n",
    "    \n",
    "    deter = determinan(det)\n",
    "\n",
    "    baris = int(input('Masukkan Jumlah Baris:\\t'))\n",
    "    kolom = int(input('Masukkan Jumlah Kolom:\\t'))\n",
    "\n",
    "    return det\n",
    "\n",
    "invers()"
   ]
  },
  {
   "cell_type": "code",
   "execution_count": 5,
   "metadata": {},
   "outputs": [
    {
     "name": "stdout",
     "output_type": "stream",
     "text": [
      "[[0.5, 0.0, 1.5], [1.0, 1.0, 0.5], [1.5, 1.0, 4.5]]\n"
     ]
    }
   ],
   "source": [
    "#Buatlah Fungsi untuk melakukan pembagian matrix antar matrix berdasarkan input user menggunakan nested loop\n",
    "\n",
    "def bagi_matrix(matrix1, skalar):\n",
    "    hasil = []\n",
    "    for i in range (len(matrix1)):\n",
    "        row = []\n",
    "        for j in range(len(matrix1[0])):\n",
    "            element = matrix1[i][j] / skalar\n",
    "            row.append(element)\n",
    "        hasil.append(row)\n",
    "\n",
    "    return hasil\n",
    "\n",
    "matrix1 = [[1,0,3], [2,2,1], [3,2,9]]\n",
    "skalar = int(input('Matrix dibagi berapa?\\t'))\n",
    "\n",
    "\n",
    "hasil_bagi = bagi_matrix(matrix1, skalar)\n",
    "print(hasil_bagi)"
   ]
  }
 ],
 "metadata": {
  "kernelspec": {
   "display_name": "Python 3",
   "language": "python",
   "name": "python3"
  },
  "language_info": {
   "codemirror_mode": {
    "name": "ipython",
    "version": 3
   },
   "file_extension": ".py",
   "mimetype": "text/x-python",
   "name": "python",
   "nbconvert_exporter": "python",
   "pygments_lexer": "ipython3",
   "version": "3.10.7"
  },
  "orig_nbformat": 4
 },
 "nbformat": 4,
 "nbformat_minor": 2
}
