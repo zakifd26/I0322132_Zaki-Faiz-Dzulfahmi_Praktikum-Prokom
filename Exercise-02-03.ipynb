{
 "cells": [
  {
   "cell_type": "code",
   "execution_count": 1,
   "metadata": {},
   "outputs": [
    {
     "name": "stdout",
     "output_type": "stream",
     "text": [
      "Zaki Faiz Dzulfahmi\n",
      "I0322132\n",
      "D\n"
     ]
    }
   ],
   "source": [
    "print(input(\"Nama: \"))\n",
    "print(input(\"NIM: \"))\n",
    "print(input(\"Kelas: \"))"
   ]
  },
  {
   "attachments": {},
   "cell_type": "markdown",
   "metadata": {},
   "source": [
    "## 1."
   ]
  },
  {
   "attachments": {},
   "cell_type": "markdown",
   "metadata": {},
   "source": [
    "diketahui dimensi sebuah aquarium tanpa penutup atas sebagai berikut:\n",
    "\n",
    "```python\n",
    "p = 11\n",
    "l = 1.99\n",
    "t = 25.87\n",
    "```\n",
    "buatkan program sederhana untuk menghitung diagonal tiap sisi dan luas permukaan aquarium tersebut tanpa menggunakan module math."
   ]
  },
  {
   "cell_type": "code",
   "execution_count": 3,
   "metadata": {},
   "outputs": [
    {
     "name": "stdout",
     "output_type": "stream",
     "text": [
      "Panjang diagonal sisi alas aquarium =  11.17855536283647\n",
      "Panjang diagonal sisi depan aquarium =  28.11150831954771\n",
      "Panjang diagonal sisi samping aquarium =  25.946425572706545\n",
      "=================================================\n",
      "Luas permukaan aquarium =  642.5113\n"
     ]
    }
   ],
   "source": [
    "p = 11\n",
    "l = 1.99\n",
    "t = 25.87\n",
    "\n",
    "diagonal_sisi_alas = float((p**2 + l**2)**0.5)\n",
    "diagonal_sisi_depan = float((p**2 + t**2)**0.5)\n",
    "diagonal_sisi_samping = float((l**2 + t**2)**0.5)\n",
    "\n",
    "x = diagonal_sisi_alas\n",
    "y = diagonal_sisi_depan\n",
    "z = diagonal_sisi_samping\n",
    "\n",
    "print(\"Panjang diagonal sisi alas aquarium = \", x)\n",
    "print(\"Panjang diagonal sisi depan aquarium = \", y)\n",
    "print(\"Panjang diagonal sisi samping aquarium = \", z)\n",
    "\n",
    "print(\"=================================================\")\n",
    "\n",
    "luas_permukaan = float((p*l) + 2*(p*t) + (l*t))\n",
    "print(\"Luas permukaan aquarium = \", luas_permukaan)"
   ]
  },
  {
   "attachments": {},
   "cell_type": "markdown",
   "metadata": {},
   "source": [
    "## 2."
   ]
  },
  {
   "attachments": {},
   "cell_type": "markdown",
   "metadata": {},
   "source": [
    "diberikan data nilai mahasiswa sebagai berikut:"
   ]
  },
  {
   "cell_type": "code",
   "execution_count": 1,
   "metadata": {},
   "outputs": [],
   "source": [
    "nilai = {\n",
    "    'Frank': 80,\n",
    "    'Abagnale': 75,\n",
    "    'Cobb': 90,\n",
    "    'Andy Dufresne': 85,\n",
    "    'Ariadne': 70\n",
    "}"
   ]
  },
  {
   "attachments": {},
   "cell_type": "markdown",
   "metadata": {},
   "source": [
    "buatlah program sederhana untuk menghitung nilai rata-rata semua mahasiswa dan mencari siapa yang mendapatkan nilai tertinggi dan nilai terendah. \n",
    "> *note: tidak perlu menggunakan loops untuk membuat program nya*"
   ]
  },
  {
   "cell_type": "code",
   "execution_count": 2,
   "metadata": {},
   "outputs": [
    {
     "name": "stdout",
     "output_type": "stream",
     "text": [
      "Nilai rata-rata dari semua mahasiswa =  80.0\n",
      "Nilai tertinggi =  90\n",
      "Mahasiswa yang mendapat nilai tertinggi adalah  Cobb\n",
      "Nilai terendah =  70\n",
      "Mahasiswa yang mendapat nilai terendah adalah  Ariadne\n"
     ]
    }
   ],
   "source": [
    "nilai = {\n",
    "    'Frank': 80,\n",
    "    'Abagnale': 75,\n",
    "    'Cobb': 90,\n",
    "    'Andy Dufresne': 85,\n",
    "    'Ariadne': 70\n",
    "}\n",
    "\n",
    "#Mencari rata-rata\n",
    "rata_rata = float(sum(nilai.values())/len(nilai.values()))\n",
    "#Mencari nilai tertinggi\n",
    "nilai_tertinggi = max(nilai.values())\n",
    "#Mencari nilai terendah \n",
    "nilai_terendah = min(nilai.values())\n",
    "#Peraih nilai tertinggi\n",
    "tertinggi = max(nilai, key=nilai.get)\n",
    "#Peraih nilai terendah\n",
    "terendah = min(nilai, key=nilai.get)\n",
    "\n",
    "print(\"Nilai rata-rata dari semua mahasiswa = \" , rata_rata)\n",
    "print(\"Nilai tertinggi = \", nilai_tertinggi)\n",
    "print(\"Mahasiswa yang mendapat nilai tertinggi adalah \", tertinggi)\n",
    "print(\"Nilai terendah = \", nilai_terendah)\n",
    "print(\"Mahasiswa yang mendapat nilai terendah adalah \", terendah)\n"
   ]
  },
  {
   "attachments": {},
   "cell_type": "markdown",
   "metadata": {},
   "source": [
    "## 3. "
   ]
  },
  {
   "attachments": {},
   "cell_type": "markdown",
   "metadata": {},
   "source": [
    "diberikan list aslab sebagai berikut:\n",
    "```python\n",
    "list_aslab = [\n",
    "    {\"nama\": \"Berlian Safri Prakoso\", \"nim\": \"I0320017\", \"kontak\": \"0858XXXXXXXX\"},\n",
    "    {\"nama\": \"Halidya Siti Hanifah\", \"nim\": \"I0320044\", \"kontak\": \"0878XXXXXXXX\"},\n",
    "    {\"nama\": \"Nurki Putra Mahardika\", \"nim\": \"I0320076\", \"kontak\": \"0877XXXXXXXX\"},\n",
    "    {\"nama\": \"Aji Manarul Aziz\", \"nim\": \"I0320119\", \"kontak\": \"0812XXXXXXXX\"},\n",
    "    {\"nama\": \"Alica Ayu Fitriani\", \"nim\": \"I0320121\", \"kontak\": \"0896XXXXXXXX\"},\n",
    "    {\"nama\": \"Dendy Halim Kusuma\", \"nim\": \"I0320125\", \"kontak\": \"0822XXXXXXXX\"}\n",
    "]\n",
    "```\n",
    "* **A** Tuliskan kode untuk mengakses informasi tentang \"nama\" dari semua aslab mulai dari index 1 sampai 5\n",
    "* **B** Tambahkan informasi berikut pada data aslab:\n",
    "```python\n",
    "    surel = [\"berlian@student.uns.ac.id\",\n",
    "          \"halidya@student.uns.ac.id\",\n",
    "          \"nurki@student.uns.ac.id\",\n",
    "          \"manarul@student.uns.ac.id\",\n",
    "          \"alica@student.uns.ac.id\",\n",
    "          \"dendy@student.uns.ac.id\"]\n",
    "```\n",
    "> *note: kalian hanya boleh menggunakan key-value pair yang disebutkan di dalam teks, tanpa menggunakan informasi tambahan yang diambil pada list yang ada*"
   ]
  },
  {
   "cell_type": "code",
   "execution_count": 1,
   "metadata": {},
   "outputs": [
    {
     "name": "stdout",
     "output_type": "stream",
     "text": [
      "Halidya Siti Hanifah\n",
      "Nurki Putra Mahardika\n",
      "Aji Manarul Aziz\n",
      "Alica Ayu Fitriani\n",
      "Dendy Halim Kusuma\n",
      "\n",
      "==============================\n",
      "\n",
      "{'nama': 'Berlian Safri Prakoso', 'nim': 'I0320017', 'kontak': '0858XXXXXXXX', 'surel': 'berlian@student.uns.ac.id'}\n",
      "{'nama': 'Halidya Siti Hanifah', 'nim': 'I0320044', 'kontak': '0878XXXXXXXX', 'surel': 'halidya@student.uns.ac.id'}\n",
      "{'nama': 'Nurki Putra Mahardika', 'nim': 'I0320076', 'kontak': '0877XXXXXXXX', 'surel': 'nurki@student.uns.ac.id'}\n",
      "{'nama': 'Aji Manarul Aziz', 'nim': 'I0320119', 'kontak': '0812XXXXXXXX', 'surel': 'manarul@student.uns.ac.id'}\n",
      "{'nama': 'Alica Ayu Fitriani', 'nim': 'I0320121', 'kontak': '0896XXXXXXXX', 'surel': 'alica@student.uns.ac.id'}\n",
      "{'nama': 'Dendy Halim Kusuma', 'nim': 'I0320125', 'kontak': '0822XXXXXXXX', 'surel': 'dendy@student.uns.ac.id'}\n"
     ]
    }
   ],
   "source": [
    "list_aslab = [\n",
    "    {\"nama\": \"Berlian Safri Prakoso\", \"nim\": \"I0320017\", \"kontak\": \"0858XXXXXXXX\"},\n",
    "    {\"nama\": \"Halidya Siti Hanifah\", \"nim\": \"I0320044\", \"kontak\": \"0878XXXXXXXX\"},\n",
    "    {\"nama\": \"Nurki Putra Mahardika\", \"nim\": \"I0320076\", \"kontak\": \"0877XXXXXXXX\"},\n",
    "    {\"nama\": \"Aji Manarul Aziz\", \"nim\": \"I0320119\", \"kontak\": \"0812XXXXXXXX\"},\n",
    "    {\"nama\": \"Alica Ayu Fitriani\", \"nim\": \"I0320121\", \"kontak\": \"0896XXXXXXXX\"},\n",
    "    {\"nama\": \"Dendy Halim Kusuma\", \"nim\": \"I0320125\", \"kontak\": \"0822XXXXXXXX\"}\n",
    "]\n",
    "#Kode untuk mengakses informasi\n",
    "for x in range (1,6) :\n",
    "    print(list_aslab[x][\"nama\"])\n",
    "print()\n",
    "print(\"==============================\")\n",
    "\n",
    "#Menambah informasi pada data\n",
    "surel = [\"berlian@student.uns.ac.id\",\n",
    "          \"halidya@student.uns.ac.id\",\n",
    "          \"nurki@student.uns.ac.id\",\n",
    "          \"manarul@student.uns.ac.id\",\n",
    "          \"alica@student.uns.ac.id\",\n",
    "          \"dendy@student.uns.ac.id\"]\n",
    "\n",
    "print()\n",
    "for x in range (len(list_aslab)) :\n",
    "    list_aslab[x][\"surel\"] = surel[x]\n",
    "for list_aslab_email in list_aslab :\n",
    "    print(list_aslab_email)\n"
   ]
  }
 ],
 "metadata": {
  "kernelspec": {
   "display_name": "Python 3",
   "language": "python",
   "name": "python3"
  },
  "language_info": {
   "codemirror_mode": {
    "name": "ipython",
    "version": 3
   },
   "file_extension": ".py",
   "mimetype": "text/x-python",
   "name": "python",
   "nbconvert_exporter": "python",
   "pygments_lexer": "ipython3",
   "version": "3.10.7"
  },
  "orig_nbformat": 4,
  "vscode": {
   "interpreter": {
    "hash": "5addf786bcd861d1ce5006f23111f8cbb206731e5b61b0a5632ba9e0252558a8"
   }
  }
 },
 "nbformat": 4,
 "nbformat_minor": 2
}
